{
 "cells": [
  {
   "cell_type": "code",
   "execution_count": 1,
   "id": "b22a28d1",
   "metadata": {},
   "outputs": [],
   "source": [
    "# Tomato Leaf Detection\n",
    "\n",
    "#Import all dependencies\n",
    "\n",
    "import numpy as np # linear algebra\n",
    "import pandas as pd # data processing, CSV file I/O (e.g. pd.read_csv)\n",
    "import os"
   ]
  },
  {
   "cell_type": "code",
   "execution_count": 2,
   "id": "7b8d36f5",
   "metadata": {},
   "outputs": [
    {
     "data": {
      "text/plain": [
       "['New Plant Diseases Dataset(Augmented)', 'train', 'valid']"
      ]
     },
     "execution_count": 2,
     "metadata": {},
     "output_type": "execute_result"
    }
   ],
   "source": [
    "path = \"C:\\\\Users\\\\shubh\\\\Desktop\\\\Tomato\\\\archive (3)\\\\New Plant Diseases Dataset(Augmented)\"\n",
    "os.listdir(path)"
   ]
  },
  {
   "cell_type": "code",
   "execution_count": null,
   "id": "95d87450",
   "metadata": {},
   "outputs": [],
   "source": [
    "# Join train and test with path\n"
   ]
  }
 ],
 "metadata": {
  "kernelspec": {
   "display_name": "Python 3 (ipykernel)",
   "language": "python",
   "name": "python3"
  },
  "language_info": {
   "codemirror_mode": {
    "name": "ipython",
    "version": 3
   },
   "file_extension": ".py",
   "mimetype": "text/x-python",
   "name": "python",
   "nbconvert_exporter": "python",
   "pygments_lexer": "ipython3",
   "version": "3.9.12"
  }
 },
 "nbformat": 4,
 "nbformat_minor": 5
}
